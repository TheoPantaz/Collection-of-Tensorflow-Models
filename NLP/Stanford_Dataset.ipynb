{
  "nbformat": 4,
  "nbformat_minor": 0,
  "metadata": {
    "accelerator": "GPU",
    "colab": {
      "name": "Exercise-3.ipynb",
      "provenance": [],
      "toc_visible": true
    },
    "kernelspec": {
      "display_name": "Python 3",
      "name": "python3"
    }
  },
  "cells": [
    {
      "cell_type": "code",
      "metadata": {
        "id": "zX4Kg8DUTKWO"
      },
      "source": [
        "#@title Licensed under the Apache License, Version 2.0 (the \"License\");\n",
        "# you may not use this file except in compliance with the License.\n",
        "# You may obtain a copy of the License at\n",
        "#\n",
        "# https://www.apache.org/licenses/LICENSE-2.0\n",
        "#\n",
        "# Unless required by applicable law or agreed to in writing, software\n",
        "# distributed under the License is distributed on an \"AS IS\" BASIS,\n",
        "# WITHOUT WARRANTIES OR CONDITIONS OF ANY KIND, either express or implied.\n",
        "# See the License for the specific language governing permissions and\n",
        "# limitations under the License."
      ],
      "execution_count": null,
      "outputs": []
    },
    {
      "cell_type": "markdown",
      "metadata": {
        "id": "tCo4xOLgS2at"
      },
      "source": [
        "## Stanford Dataset"
      ]
    },
    {
      "cell_type": "code",
      "metadata": {
        "id": "hmA6EzkQJ5jt"
      },
      "source": [
        "import json\n",
        "import tensorflow as tf\n",
        "import csv\n",
        "import random\n",
        "import numpy as np\n",
        "\n",
        "from tensorflow.keras.preprocessing.text import Tokenizer\n",
        "from tensorflow.keras.preprocessing.sequence import pad_sequences\n",
        "from tensorflow.keras.utils import to_categorical\n",
        "from tensorflow.keras import regularizers\n",
        "\n",
        "\n",
        "embedding_dim = 100\n",
        "max_length = 16\n",
        "trunc_type='post'\n",
        "padding_type='post'\n",
        "oov_tok = \"<OOV>\"\n",
        "training_size= 50000 \n",
        "test_portion=.1\n",
        "\n",
        "corpus = []\n"
      ],
      "execution_count": null,
      "outputs": []
    },
    {
      "cell_type": "code",
      "metadata": {
        "id": "bM0l_dORKqE0",
        "colab": {
          "base_uri": "https://localhost:8080/",
          "height": 204
        },
        "outputId": "9eb82082-5d4d-4c3e-b655-7a29db447676"
      },
      "source": [
        "!wget --no-check-certificate \\\n",
        "    https://storage.googleapis.com/laurencemoroney-blog.appspot.com/training_cleaned.csv \\\n",
        "    -O /tmp/training_cleaned.csv\n",
        "\n",
        "num_sentences = 0\n",
        "\n",
        "with open(\"/tmp/training_cleaned.csv\") as csvfile:\n",
        "    reader = csv.reader(csvfile, delimiter=',')\n",
        "    for row in reader:\n",
        "        list_item=[]\n",
        "        list_item.append(row[5])\n",
        "        this_label=row[0]\n",
        "        if this_label=='0':\n",
        "            list_item.append(0)\n",
        "        else:\n",
        "            list_item.append(1)\n",
        "        num_sentences = num_sentences + 1\n",
        "        corpus.append(list_item)\n"
      ],
      "execution_count": null,
      "outputs": [
        {
          "output_type": "stream",
          "text": [
            "--2020-09-15 19:19:17--  https://storage.googleapis.com/laurencemoroney-blog.appspot.com/training_cleaned.csv\n",
            "Resolving storage.googleapis.com (storage.googleapis.com)... 173.194.69.128, 108.177.119.128, 108.177.126.128, ...\n",
            "Connecting to storage.googleapis.com (storage.googleapis.com)|173.194.69.128|:443... connected.\n",
            "HTTP request sent, awaiting response... 200 OK\n",
            "Length: 238942690 (228M) [application/octet-stream]\n",
            "Saving to: ‘/tmp/training_cleaned.csv’\n",
            "\n",
            "/tmp/training_clean 100%[===================>] 227.87M  55.2MB/s    in 4.1s    \n",
            "\n",
            "2020-09-15 19:19:21 (55.2 MB/s) - ‘/tmp/training_cleaned.csv’ saved [238942690/238942690]\n",
            "\n"
          ],
          "name": "stdout"
        }
      ]
    },
    {
      "cell_type": "code",
      "metadata": {
        "id": "3kxblBUjEUX-",
        "colab": {
          "base_uri": "https://localhost:8080/",
          "height": 68
        },
        "outputId": "3030f91c-0506-4313-9340-c323a7c6074c"
      },
      "source": [
        "print(num_sentences)\n",
        "print(len(corpus))\n",
        "print(corpus[1])"
      ],
      "execution_count": null,
      "outputs": [
        {
          "output_type": "stream",
          "text": [
            "1600000\n",
            "1600000\n",
            "[\"is upset that he can't update his Facebook by texting it... and might cry as a result  School today also. Blah!\", 0]\n"
          ],
          "name": "stdout"
        }
      ]
    },
    {
      "cell_type": "code",
      "metadata": {
        "id": "ohOGz24lsNAD"
      },
      "source": [
        "sentences=[]\n",
        "labels=[]\n",
        "random.shuffle(corpus)\n",
        "for x in range(training_size):\n",
        "    sentences.append(corpus[x][0])\n",
        "    labels.append(corpus[x][1])\n",
        "\n",
        "\n",
        "tokenizer = Tokenizer()\n",
        "tokenizer.fit_on_texts(sentences)\n",
        "\n",
        "word_index = tokenizer.word_index\n",
        "vocab_size=len(word_index)\n",
        "\n",
        "sequences = tokenizer.texts_to_sequences(sentences)\n",
        "padded = pad_sequences(sequences, maxlen=max_length, padding=padding_type, truncating=trunc_type)\n",
        "\n",
        "split = int(test_portion * training_size)\n",
        "\n",
        "test_sequences = padded[:split]\n",
        "training_sequences = padded[split : training_size]\n",
        "test_labels = labels[:split]\n",
        "training_labels = labels[split : training_size]"
      ],
      "execution_count": null,
      "outputs": []
    },
    {
      "cell_type": "code",
      "metadata": {
        "id": "gIrtRem1En3N",
        "colab": {
          "base_uri": "https://localhost:8080/",
          "height": 51
        },
        "outputId": "114cd81e-f349-453c-dd03-07d1c5e3e85a"
      },
      "source": [
        "print(vocab_size)\n",
        "print(word_index['i'])"
      ],
      "execution_count": null,
      "outputs": [
        {
          "output_type": "stream",
          "text": [
            "59967\n",
            "1\n"
          ],
          "name": "stdout"
        }
      ]
    },
    {
      "cell_type": "code",
      "metadata": {
        "id": "C1zdgJkusRh0",
        "colab": {
          "base_uri": "https://localhost:8080/",
          "height": 204
        },
        "outputId": "f238560a-b479-4016-85e6-61ec4ca170c3"
      },
      "source": [
        "!wget --no-check-certificate \\\n",
        "    https://storage.googleapis.com/laurencemoroney-blog.appspot.com/glove.6B.100d.txt \\\n",
        "    -O /tmp/glove.6B.100d.txt\n",
        "embeddings_index = {};\n",
        "with open('/tmp/glove.6B.100d.txt') as f:\n",
        "    for line in f:\n",
        "        values = line.split();\n",
        "        word = values[0];\n",
        "        coefs = np.asarray(values[1:], dtype='float32');\n",
        "        embeddings_index[word] = coefs;\n",
        "\n",
        "embeddings_matrix = np.zeros((vocab_size+1, embedding_dim));\n",
        "for word, i in word_index.items():\n",
        "    embedding_vector = embeddings_index.get(word);\n",
        "    if embedding_vector is not None:\n",
        "        embeddings_matrix[i] = embedding_vector;"
      ],
      "execution_count": null,
      "outputs": [
        {
          "output_type": "stream",
          "text": [
            "--2020-09-15 19:19:57--  https://storage.googleapis.com/laurencemoroney-blog.appspot.com/glove.6B.100d.txt\n",
            "Resolving storage.googleapis.com (storage.googleapis.com)... 108.177.119.128, 108.177.126.128, 108.177.127.128, ...\n",
            "Connecting to storage.googleapis.com (storage.googleapis.com)|108.177.119.128|:443... connected.\n",
            "HTTP request sent, awaiting response... 200 OK\n",
            "Length: 347116733 (331M) [text/plain]\n",
            "Saving to: ‘/tmp/glove.6B.100d.txt’\n",
            "\n",
            "/tmp/glove.6B.100d. 100%[===================>] 331.04M  57.2MB/s    in 5.8s    \n",
            "\n",
            "2020-09-15 19:20:04 (57.2 MB/s) - ‘/tmp/glove.6B.100d.txt’ saved [347116733/347116733]\n",
            "\n"
          ],
          "name": "stdout"
        }
      ]
    },
    {
      "cell_type": "code",
      "metadata": {
        "id": "71NLk_lpFLNt",
        "colab": {
          "base_uri": "https://localhost:8080/",
          "height": 34
        },
        "outputId": "3e20c766-d6be-4b4f-a5a4-75ec2734e77d"
      },
      "source": [
        "print(len(embeddings_matrix))"
      ],
      "execution_count": null,
      "outputs": [
        {
          "output_type": "stream",
          "text": [
            "59968\n"
          ],
          "name": "stdout"
        }
      ]
    },
    {
      "cell_type": "code",
      "metadata": {
        "id": "iKKvbuEBOGFz",
        "colab": {
          "base_uri": "https://localhost:8080/",
          "height": 1000
        },
        "outputId": "9c3a350e-f5c4-4803-b6d6-e0da011d360b"
      },
      "source": [
        "model = tf.keras.Sequential([\n",
        "    tf.keras.layers.Embedding(vocab_size+1, embedding_dim, input_length=max_length, weights=[embeddings_matrix], trainable=False),\n",
        "    tf.keras.layers.Dropout(0.2),\n",
        "    tf.keras.layers.Conv1D(64, 5, activation='relu'),\n",
        "    tf.keras.layers.MaxPooling1D(pool_size=4),\n",
        "    tf.keras.layers.LSTM(64),\n",
        "    tf.keras.layers.Dense(1, activation='sigmoid')\n",
        "])\n",
        "model.compile(loss='binary_crossentropy',optimizer='adam',metrics=['accuracy'])\n",
        "model.summary()\n",
        "\n",
        "training_padded = np.array(training_sequences)\n",
        "training_labels = np.array(training_labels)\n",
        "testing_padded = np.array(test_sequences)\n",
        "testing_labels = np.array(test_labels)\n",
        "\n",
        "num_epochs = 50\n",
        "history = model.fit(training_padded, training_labels, epochs=num_epochs, validation_data=(testing_padded, testing_labels), verbose=2)\n",
        "\n",
        "print(\"Training Complete\")\n"
      ],
      "execution_count": null,
      "outputs": [
        {
          "output_type": "stream",
          "text": [
            "Model: \"sequential_3\"\n",
            "_________________________________________________________________\n",
            "Layer (type)                 Output Shape              Param #   \n",
            "=================================================================\n",
            "embedding_4 (Embedding)      (None, 16, 100)           5996800   \n",
            "_________________________________________________________________\n",
            "dropout_3 (Dropout)          (None, 16, 100)           0         \n",
            "_________________________________________________________________\n",
            "conv1d_3 (Conv1D)            (None, 12, 64)            32064     \n",
            "_________________________________________________________________\n",
            "max_pooling1d_3 (MaxPooling1 (None, 3, 64)             0         \n",
            "_________________________________________________________________\n",
            "lstm_3 (LSTM)                (None, 64)                33024     \n",
            "_________________________________________________________________\n",
            "dense_3 (Dense)              (None, 1)                 65        \n",
            "=================================================================\n",
            "Total params: 6,061,953\n",
            "Trainable params: 65,153\n",
            "Non-trainable params: 5,996,800\n",
            "_________________________________________________________________\n",
            "Epoch 1/50\n",
            "1407/1407 - 6s - loss: 0.5957 - accuracy: 0.6734 - val_loss: 0.5637 - val_accuracy: 0.7010\n",
            "Epoch 2/50\n",
            "1407/1407 - 6s - loss: 0.5432 - accuracy: 0.7188 - val_loss: 0.5369 - val_accuracy: 0.7276\n",
            "Epoch 3/50\n",
            "1407/1407 - 5s - loss: 0.5193 - accuracy: 0.7363 - val_loss: 0.5299 - val_accuracy: 0.7280\n",
            "Epoch 4/50\n",
            "1407/1407 - 5s - loss: 0.5036 - accuracy: 0.7487 - val_loss: 0.5280 - val_accuracy: 0.7368\n",
            "Epoch 5/50\n",
            "1407/1407 - 6s - loss: 0.4876 - accuracy: 0.7599 - val_loss: 0.5373 - val_accuracy: 0.7234\n",
            "Epoch 6/50\n",
            "1407/1407 - 5s - loss: 0.4737 - accuracy: 0.7700 - val_loss: 0.5317 - val_accuracy: 0.7346\n",
            "Epoch 7/50\n",
            "1407/1407 - 6s - loss: 0.4594 - accuracy: 0.7784 - val_loss: 0.5202 - val_accuracy: 0.7424\n",
            "Epoch 8/50\n",
            "1407/1407 - 6s - loss: 0.4523 - accuracy: 0.7825 - val_loss: 0.5596 - val_accuracy: 0.7296\n",
            "Epoch 9/50\n",
            "1407/1407 - 5s - loss: 0.4420 - accuracy: 0.7889 - val_loss: 0.5427 - val_accuracy: 0.7376\n",
            "Epoch 10/50\n",
            "1407/1407 - 5s - loss: 0.4315 - accuracy: 0.7961 - val_loss: 0.5396 - val_accuracy: 0.7364\n",
            "Epoch 11/50\n",
            "1407/1407 - 5s - loss: 0.4247 - accuracy: 0.7980 - val_loss: 0.5609 - val_accuracy: 0.7232\n",
            "Epoch 12/50\n",
            "1407/1407 - 5s - loss: 0.4139 - accuracy: 0.8065 - val_loss: 0.5656 - val_accuracy: 0.7354\n",
            "Epoch 13/50\n",
            "1407/1407 - 6s - loss: 0.4077 - accuracy: 0.8082 - val_loss: 0.5738 - val_accuracy: 0.7378\n",
            "Epoch 14/50\n",
            "1407/1407 - 5s - loss: 0.3996 - accuracy: 0.8131 - val_loss: 0.5678 - val_accuracy: 0.7292\n",
            "Epoch 15/50\n",
            "1407/1407 - 5s - loss: 0.3951 - accuracy: 0.8140 - val_loss: 0.5736 - val_accuracy: 0.7320\n",
            "Epoch 16/50\n",
            "1407/1407 - 5s - loss: 0.3906 - accuracy: 0.8170 - val_loss: 0.5763 - val_accuracy: 0.7320\n",
            "Epoch 17/50\n",
            "1407/1407 - 6s - loss: 0.3821 - accuracy: 0.8227 - val_loss: 0.5918 - val_accuracy: 0.7308\n",
            "Epoch 18/50\n",
            "1407/1407 - 6s - loss: 0.3790 - accuracy: 0.8248 - val_loss: 0.6023 - val_accuracy: 0.7234\n",
            "Epoch 19/50\n",
            "1407/1407 - 6s - loss: 0.3734 - accuracy: 0.8275 - val_loss: 0.6030 - val_accuracy: 0.7304\n",
            "Epoch 20/50\n",
            "1407/1407 - 5s - loss: 0.3660 - accuracy: 0.8316 - val_loss: 0.6153 - val_accuracy: 0.7232\n",
            "Epoch 21/50\n",
            "1407/1407 - 5s - loss: 0.3608 - accuracy: 0.8363 - val_loss: 0.6309 - val_accuracy: 0.7150\n",
            "Epoch 22/50\n",
            "1407/1407 - 5s - loss: 0.3575 - accuracy: 0.8361 - val_loss: 0.6315 - val_accuracy: 0.7198\n",
            "Epoch 23/50\n",
            "1407/1407 - 5s - loss: 0.3532 - accuracy: 0.8382 - val_loss: 0.6251 - val_accuracy: 0.7150\n",
            "Epoch 24/50\n",
            "1407/1407 - 5s - loss: 0.3502 - accuracy: 0.8402 - val_loss: 0.6370 - val_accuracy: 0.7134\n",
            "Epoch 25/50\n",
            "1407/1407 - 5s - loss: 0.3453 - accuracy: 0.8437 - val_loss: 0.6394 - val_accuracy: 0.7186\n",
            "Epoch 26/50\n",
            "1407/1407 - 5s - loss: 0.3396 - accuracy: 0.8459 - val_loss: 0.6475 - val_accuracy: 0.7174\n",
            "Epoch 27/50\n",
            "1407/1407 - 6s - loss: 0.3393 - accuracy: 0.8465 - val_loss: 0.6450 - val_accuracy: 0.7192\n",
            "Epoch 28/50\n",
            "1407/1407 - 6s - loss: 0.3351 - accuracy: 0.8487 - val_loss: 0.6508 - val_accuracy: 0.7198\n",
            "Epoch 29/50\n",
            "1407/1407 - 6s - loss: 0.3353 - accuracy: 0.8496 - val_loss: 0.6486 - val_accuracy: 0.7176\n",
            "Epoch 30/50\n",
            "1407/1407 - 5s - loss: 0.3294 - accuracy: 0.8527 - val_loss: 0.6553 - val_accuracy: 0.7132\n",
            "Epoch 31/50\n",
            "1407/1407 - 6s - loss: 0.3266 - accuracy: 0.8531 - val_loss: 0.6671 - val_accuracy: 0.7206\n",
            "Epoch 32/50\n",
            "1407/1407 - 6s - loss: 0.3279 - accuracy: 0.8528 - val_loss: 0.6524 - val_accuracy: 0.7140\n",
            "Epoch 33/50\n",
            "1407/1407 - 5s - loss: 0.3257 - accuracy: 0.8544 - val_loss: 0.6594 - val_accuracy: 0.7236\n",
            "Epoch 34/50\n",
            "1407/1407 - 5s - loss: 0.3214 - accuracy: 0.8552 - val_loss: 0.6838 - val_accuracy: 0.7124\n",
            "Epoch 35/50\n",
            "1407/1407 - 5s - loss: 0.3199 - accuracy: 0.8565 - val_loss: 0.6591 - val_accuracy: 0.7124\n",
            "Epoch 36/50\n",
            "1407/1407 - 6s - loss: 0.3195 - accuracy: 0.8562 - val_loss: 0.6698 - val_accuracy: 0.7160\n",
            "Epoch 37/50\n",
            "1407/1407 - 5s - loss: 0.3135 - accuracy: 0.8600 - val_loss: 0.6863 - val_accuracy: 0.7126\n",
            "Epoch 38/50\n",
            "1407/1407 - 5s - loss: 0.3171 - accuracy: 0.8574 - val_loss: 0.6974 - val_accuracy: 0.7086\n",
            "Epoch 39/50\n",
            "1407/1407 - 5s - loss: 0.3130 - accuracy: 0.8606 - val_loss: 0.6939 - val_accuracy: 0.7142\n",
            "Epoch 40/50\n",
            "1407/1407 - 5s - loss: 0.3093 - accuracy: 0.8622 - val_loss: 0.6885 - val_accuracy: 0.7134\n",
            "Epoch 41/50\n",
            "1407/1407 - 5s - loss: 0.3075 - accuracy: 0.8638 - val_loss: 0.6862 - val_accuracy: 0.7120\n",
            "Epoch 42/50\n",
            "1407/1407 - 6s - loss: 0.3066 - accuracy: 0.8643 - val_loss: 0.6928 - val_accuracy: 0.7092\n",
            "Epoch 43/50\n",
            "1407/1407 - 5s - loss: 0.3051 - accuracy: 0.8630 - val_loss: 0.6980 - val_accuracy: 0.7100\n",
            "Epoch 44/50\n",
            "1407/1407 - 5s - loss: 0.3036 - accuracy: 0.8657 - val_loss: 0.6973 - val_accuracy: 0.7142\n",
            "Epoch 45/50\n",
            "1407/1407 - 5s - loss: 0.3028 - accuracy: 0.8664 - val_loss: 0.7121 - val_accuracy: 0.7144\n",
            "Epoch 46/50\n",
            "1407/1407 - 6s - loss: 0.3033 - accuracy: 0.8665 - val_loss: 0.6976 - val_accuracy: 0.7110\n",
            "Epoch 47/50\n",
            "1407/1407 - 6s - loss: 0.3007 - accuracy: 0.8663 - val_loss: 0.7075 - val_accuracy: 0.7144\n",
            "Epoch 48/50\n",
            "1407/1407 - 5s - loss: 0.3002 - accuracy: 0.8681 - val_loss: 0.7218 - val_accuracy: 0.7114\n",
            "Epoch 49/50\n",
            "1407/1407 - 6s - loss: 0.2953 - accuracy: 0.8698 - val_loss: 0.6993 - val_accuracy: 0.7130\n",
            "Epoch 50/50\n",
            "1407/1407 - 6s - loss: 0.2952 - accuracy: 0.8705 - val_loss: 0.7034 - val_accuracy: 0.7132\n",
            "Training Complete\n"
          ],
          "name": "stdout"
        }
      ]
    },
    {
      "cell_type": "code",
      "metadata": {
        "id": "qxju4ItJKO8F",
        "colab": {
          "base_uri": "https://localhost:8080/",
          "height": 607
        },
        "outputId": "112a593a-429a-45df-f9c3-95fa47c2f1aa"
      },
      "source": [
        "import matplotlib.image  as mpimg\n",
        "import matplotlib.pyplot as plt\n",
        "\n",
        "acc=history.history['accuracy']\n",
        "val_acc=history.history['val_accuracy']\n",
        "loss=history.history['loss']\n",
        "val_loss=history.history['val_loss']\n",
        "\n",
        "epochs=range(len(acc)) # Get number of epochs\n",
        "\n",
        "plt.plot(epochs, acc, 'r')\n",
        "plt.plot(epochs, val_acc, 'b')\n",
        "plt.title('Training and validation accuracy')\n",
        "plt.xlabel(\"Epochs\")\n",
        "plt.ylabel(\"Accuracy\")\n",
        "plt.legend([\"Accuracy\", \"Validation Accuracy\"])\n",
        "\n",
        "plt.figure()\n",
        "\n",
        "plt.plot(epochs, loss, 'r')\n",
        "plt.plot(epochs, val_loss, 'b')\n",
        "plt.title('Training and validation loss')\n",
        "plt.xlabel(\"Epochs\")\n",
        "plt.ylabel(\"Loss\")\n",
        "plt.legend([\"Loss\", \"Validation Loss\"])\n",
        "\n",
        "plt.figure()"
      ],
      "execution_count": null,
      "outputs": [
        {
          "output_type": "execute_result",
          "data": {
            "text/plain": [
              "<Figure size 432x288 with 0 Axes>"
            ]
          },
          "metadata": {
            "tags": []
          },
          "execution_count": 21
        },
        {
          "output_type": "display_data",
          "data": {
            "image/png": "[encoded data removed]",
            "text/plain": [
              "<Figure size 432x288 with 1 Axes>"
            ]
          },
          "metadata": {
            "tags": [],
            "needs_background": "light"
          }
        },
        {
          "output_type": "display_data",
          "data": {
            "image/png": "[encoded data removed]",
            "text/plain": [
              "<Figure size 432x288 with 1 Axes>"
            ]
          },
          "metadata": {
            "tags": [],
            "needs_background": "light"
          }
        },
        {
          "output_type": "display_data",
          "data": {
            "text/plain": [
              "<Figure size 432x288 with 0 Axes>"
            ]
          },
          "metadata": {
            "tags": []
          }
        }
      ]
    }
  ]
}