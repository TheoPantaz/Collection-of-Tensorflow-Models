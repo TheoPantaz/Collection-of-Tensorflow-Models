{
  "nbformat": 4,
  "nbformat_minor": 0,
  "metadata": {
    "accelerator": "GPU",
    "colab": {
      "name": "Exercise-4.ipynb",
      "provenance": [],
      "toc_visible": true
    },
    "kernelspec": {
      "display_name": "Python 3",
      "name": "python3"
    }
  },
  "cells": [
    {
      "cell_type": "code",
      "metadata": {
        "id": "zX4Kg8DUTKWO"
      },
      "source": [
        "#@title Licensed under the Apache License, Version 2.0 (the \"License\");\n",
        "# you may not use this file except in compliance with the License.\n",
        "# You may obtain a copy of the License at\n",
        "#\n",
        "# https://www.apache.org/licenses/LICENSE-2.0\n",
        "#\n",
        "# Unless required by applicable law or agreed to in writing, software\n",
        "# distributed under the License is distributed on an \"AS IS\" BASIS,\n",
        "# WITHOUT WARRANTIES OR CONDITIONS OF ANY KIND, either express or implied.\n",
        "# See the License for the specific language governing permissions and\n",
        "# limitations under the License."
      ],
      "execution_count": null,
      "outputs": []
    },
    {
      "cell_type": "markdown",
      "metadata": {
        "id": "_opvFUMITmFx"
      },
      "source": [
        "## Sonnets Dataset and poetry generator"
      ]
    },
    {
      "cell_type": "code",
      "metadata": {
        "id": "BOwsuGQQY9OL"
      },
      "source": [
        "from tensorflow.keras.preprocessing.sequence import pad_sequences\n",
        "from tensorflow.keras.layers import Embedding, LSTM, Dense, Dropout, Bidirectional\n",
        "from tensorflow.keras.preprocessing.text import Tokenizer\n",
        "from tensorflow.keras.models import Sequential\n",
        "from tensorflow.keras.optimizers import Adam\n",
        "from tensorflow.keras import regularizers\n",
        "import tensorflow.keras.utils as ku \n",
        "import numpy as np "
      ],
      "execution_count": null,
      "outputs": []
    },
    {
      "cell_type": "code",
      "metadata": {
        "id": "PRnDnCW-Z7qv",
        "colab": {
          "base_uri": "https://localhost:8080/",
          "height": 204
        },
        "outputId": "2ac6e7d3-2d7e-4397-996e-cb836ea6b5ba"
      },
      "source": [
        "tokenizer = Tokenizer()\n",
        "!wget --no-check-certificate \\\n",
        "    https://storage.googleapis.com/laurencemoroney-blog.appspot.com/sonnets.txt \\\n",
        "    -O /tmp/sonnets.txt\n",
        "data = open('/tmp/sonnets.txt').read()\n",
        "\n",
        "corpus = data.lower().split(\"\\n\")\n",
        "\n",
        "\n",
        "tokenizer.fit_on_texts(corpus)\n",
        "total_words = len(tokenizer.word_index) + 1\n",
        "\n",
        "input_sequences = []\n",
        "for line in corpus:\n",
        "\ttoken_list = tokenizer.texts_to_sequences([line])[0]\n",
        "\tfor i in range(1, len(token_list)):\n",
        "\t\tn_gram_sequence = token_list[:i+1]\n",
        "\t\tinput_sequences.append(n_gram_sequence)\n",
        "\n",
        "max_sequence_len = max([len(x) for x in input_sequences])\n",
        "input_sequences = np.array(pad_sequences(input_sequences, maxlen=max_sequence_len, padding='pre'))\n",
        "\n",
        "predictors, label = input_sequences[:,:-1],input_sequences[:,-1]\n",
        "\n",
        "label = ku.to_categorical(label, num_classes=total_words)"
      ],
      "execution_count": null,
      "outputs": [
        {
          "output_type": "stream",
          "text": [
            "--2020-09-16 20:30:17--  https://storage.googleapis.com/laurencemoroney-blog.appspot.com/sonnets.txt\n",
            "Resolving storage.googleapis.com (storage.googleapis.com)... 74.125.142.128, 74.125.195.128, 2607:f8b0:400e:c09::80, ...\n",
            "Connecting to storage.googleapis.com (storage.googleapis.com)|74.125.142.128|:443... connected.\n",
            "HTTP request sent, awaiting response... 200 OK\n",
            "Length: 93578 (91K) [text/plain]\n",
            "Saving to: ‘/tmp/sonnets.txt’\n",
            "\n",
            "\r/tmp/sonnets.txt      0%[                    ]       0  --.-KB/s               \r/tmp/sonnets.txt    100%[===================>]  91.38K  --.-KB/s    in 0.001s  \n",
            "\n",
            "2020-09-16 20:30:17 (105 MB/s) - ‘/tmp/sonnets.txt’ saved [93578/93578]\n",
            "\n"
          ],
          "name": "stdout"
        }
      ]
    },
    {
      "cell_type": "code",
      "metadata": {
        "id": "w9vH8Y59ajYL",
        "colab": {
          "base_uri": "https://localhost:8080/",
          "height": 374
        },
        "outputId": "2ce897de-f24b-4213-ca38-460376d581df"
      },
      "source": [
        "model = Sequential()\n",
        "model.add(Embedding(total_words, 100, input_length=max_sequence_len-1))\n",
        "model.add(Bidirectional(LSTM(200, return_sequences = True)))\n",
        "model.add(Dropout(0.2))\n",
        "model.add(LSTM(150))\n",
        "model.add(Dense(2048, activation = 'relu', kernel_regularizer = regularizers.l2(0.01)))\n",
        "model.add(Dense(total_words, activation = 'softmax'))\n",
        "\n",
        "adam = Adam(lr = 0.01)\n",
        "model.compile(loss = 'categorical_crossentropy', optimizer = 'adam', metrics = ['accuracy'])\n",
        "print(model.summary())\n"
      ],
      "execution_count": null,
      "outputs": [
        {
          "output_type": "stream",
          "text": [
            "Model: \"sequential_6\"\n",
            "_________________________________________________________________\n",
            "Layer (type)                 Output Shape              Param #   \n",
            "=================================================================\n",
            "embedding_6 (Embedding)      (None, 10, 100)           321100    \n",
            "_________________________________________________________________\n",
            "bidirectional_1 (Bidirection (None, 10, 400)           481600    \n",
            "_________________________________________________________________\n",
            "dropout_5 (Dropout)          (None, 10, 400)           0         \n",
            "_________________________________________________________________\n",
            "lstm_12 (LSTM)               (None, 150)               330600    \n",
            "_________________________________________________________________\n",
            "dense_4 (Dense)              (None, 2048)              309248    \n",
            "_________________________________________________________________\n",
            "dense_5 (Dense)              (None, 3211)              6579339   \n",
            "=================================================================\n",
            "Total params: 8,021,887\n",
            "Trainable params: 8,021,887\n",
            "Non-trainable params: 0\n",
            "_________________________________________________________________\n",
            "None\n"
          ],
          "name": "stdout"
        }
      ]
    },
    {
      "cell_type": "code",
      "metadata": {
        "id": "AIg2f1HBxqof",
        "colab": {
          "base_uri": "https://localhost:8080/",
          "height": 1000
        },
        "outputId": "2718284f-5702-4ed6-92bf-596c4876dcc2"
      },
      "source": [
        " history = model.fit(predictors, label, epochs=100, verbose=2)"
      ],
      "execution_count": null,
      "outputs": [
        {
          "output_type": "stream",
          "text": [
            "Epoch 1/100\n",
            "484/484 - 5s - loss: 6.9177 - accuracy: 0.0194\n",
            "Epoch 2/100\n",
            "484/484 - 5s - loss: 6.5036 - accuracy: 0.0202\n",
            "Epoch 3/100\n",
            "484/484 - 5s - loss: 6.3980 - accuracy: 0.0257\n",
            "Epoch 4/100\n",
            "484/484 - 5s - loss: 6.2805 - accuracy: 0.0308\n",
            "Epoch 5/100\n",
            "484/484 - 5s - loss: 6.1800 - accuracy: 0.0369\n",
            "Epoch 6/100\n",
            "484/484 - 5s - loss: 6.0960 - accuracy: 0.0394\n",
            "Epoch 7/100\n",
            "484/484 - 5s - loss: 6.0180 - accuracy: 0.0440\n",
            "Epoch 8/100\n",
            "484/484 - 5s - loss: 5.9239 - accuracy: 0.0480\n",
            "Epoch 9/100\n",
            "484/484 - 5s - loss: 5.8156 - accuracy: 0.0545\n",
            "Epoch 10/100\n",
            "484/484 - 5s - loss: 5.7062 - accuracy: 0.0609\n",
            "Epoch 11/100\n",
            "484/484 - 5s - loss: 5.6018 - accuracy: 0.0653\n",
            "Epoch 12/100\n",
            "484/484 - 5s - loss: 5.4948 - accuracy: 0.0706\n",
            "Epoch 13/100\n",
            "484/484 - 5s - loss: 5.3892 - accuracy: 0.0768\n",
            "Epoch 14/100\n",
            "484/484 - 5s - loss: 5.2758 - accuracy: 0.0853\n",
            "Epoch 15/100\n",
            "484/484 - 5s - loss: 5.1659 - accuracy: 0.0918\n",
            "Epoch 16/100\n",
            "484/484 - 5s - loss: 5.0519 - accuracy: 0.1001\n",
            "Epoch 17/100\n",
            "484/484 - 5s - loss: 4.9450 - accuracy: 0.1082\n",
            "Epoch 18/100\n",
            "484/484 - 5s - loss: 4.8290 - accuracy: 0.1187\n",
            "Epoch 19/100\n",
            "484/484 - 5s - loss: 4.7182 - accuracy: 0.1323\n",
            "Epoch 20/100\n",
            "484/484 - 5s - loss: 4.6098 - accuracy: 0.1463\n",
            "Epoch 21/100\n",
            "484/484 - 5s - loss: 4.4935 - accuracy: 0.1544\n",
            "Epoch 22/100\n",
            "484/484 - 5s - loss: 4.3729 - accuracy: 0.1727\n",
            "Epoch 23/100\n",
            "484/484 - 5s - loss: 4.2576 - accuracy: 0.1851\n",
            "Epoch 24/100\n",
            "484/484 - 5s - loss: 4.1406 - accuracy: 0.1990\n",
            "Epoch 25/100\n",
            "484/484 - 5s - loss: 4.0324 - accuracy: 0.2176\n",
            "Epoch 26/100\n",
            "484/484 - 5s - loss: 3.9119 - accuracy: 0.2333\n",
            "Epoch 27/100\n",
            "484/484 - 5s - loss: 3.7942 - accuracy: 0.2497\n",
            "Epoch 28/100\n",
            "484/484 - 5s - loss: 3.6884 - accuracy: 0.2717\n",
            "Epoch 29/100\n",
            "484/484 - 5s - loss: 3.5856 - accuracy: 0.2931\n",
            "Epoch 30/100\n",
            "484/484 - 5s - loss: 3.4784 - accuracy: 0.3114\n",
            "Epoch 31/100\n",
            "484/484 - 5s - loss: 3.3695 - accuracy: 0.3379\n",
            "Epoch 32/100\n",
            "484/484 - 5s - loss: 3.2725 - accuracy: 0.3555\n",
            "Epoch 33/100\n",
            "484/484 - 5s - loss: 3.1694 - accuracy: 0.3832\n",
            "Epoch 34/100\n",
            "484/484 - 5s - loss: 3.0813 - accuracy: 0.3992\n",
            "Epoch 35/100\n",
            "484/484 - 5s - loss: 2.9967 - accuracy: 0.4173\n",
            "Epoch 36/100\n",
            "484/484 - 5s - loss: 2.9066 - accuracy: 0.4439\n",
            "Epoch 37/100\n",
            "484/484 - 5s - loss: 2.8239 - accuracy: 0.4628\n",
            "Epoch 38/100\n",
            "484/484 - 5s - loss: 2.7469 - accuracy: 0.4792\n",
            "Epoch 39/100\n",
            "484/484 - 5s - loss: 2.6713 - accuracy: 0.4967\n",
            "Epoch 40/100\n",
            "484/484 - 5s - loss: 2.5982 - accuracy: 0.5113\n",
            "Epoch 41/100\n",
            "484/484 - 5s - loss: 2.5318 - accuracy: 0.5296\n",
            "Epoch 42/100\n",
            "484/484 - 6s - loss: 2.4573 - accuracy: 0.5465\n",
            "Epoch 43/100\n",
            "484/484 - 5s - loss: 2.3943 - accuracy: 0.5618\n",
            "Epoch 44/100\n",
            "484/484 - 5s - loss: 2.3449 - accuracy: 0.5731\n",
            "Epoch 45/100\n",
            "484/484 - 5s - loss: 2.2824 - accuracy: 0.5823\n",
            "Epoch 46/100\n",
            "484/484 - 5s - loss: 2.2197 - accuracy: 0.6035\n",
            "Epoch 47/100\n",
            "484/484 - 5s - loss: 2.1632 - accuracy: 0.6106\n",
            "Epoch 48/100\n",
            "484/484 - 5s - loss: 2.1165 - accuracy: 0.6228\n",
            "Epoch 49/100\n",
            "484/484 - 5s - loss: 2.0437 - accuracy: 0.6443\n",
            "Epoch 50/100\n",
            "484/484 - 5s - loss: 2.0121 - accuracy: 0.6438\n",
            "Epoch 51/100\n",
            "484/484 - 5s - loss: 1.9698 - accuracy: 0.6506\n",
            "Epoch 52/100\n",
            "484/484 - 5s - loss: 1.9241 - accuracy: 0.6645\n",
            "Epoch 53/100\n",
            "484/484 - 5s - loss: 1.8844 - accuracy: 0.6737\n",
            "Epoch 54/100\n",
            "484/484 - 5s - loss: 1.8453 - accuracy: 0.6797\n",
            "Epoch 55/100\n",
            "484/484 - 5s - loss: 1.7977 - accuracy: 0.6874\n",
            "Epoch 56/100\n",
            "484/484 - 5s - loss: 1.7619 - accuracy: 0.6949\n",
            "Epoch 57/100\n",
            "484/484 - 5s - loss: 1.7377 - accuracy: 0.7032\n",
            "Epoch 58/100\n",
            "484/484 - 5s - loss: 1.6989 - accuracy: 0.7108\n",
            "Epoch 59/100\n",
            "484/484 - 5s - loss: 1.6606 - accuracy: 0.7163\n",
            "Epoch 60/100\n",
            "484/484 - 5s - loss: 1.6434 - accuracy: 0.7192\n",
            "Epoch 61/100\n",
            "484/484 - 5s - loss: 1.6069 - accuracy: 0.7265\n",
            "Epoch 62/100\n",
            "484/484 - 5s - loss: 1.5727 - accuracy: 0.7341\n",
            "Epoch 63/100\n",
            "484/484 - 5s - loss: 1.5416 - accuracy: 0.7385\n",
            "Epoch 64/100\n",
            "484/484 - 5s - loss: 1.5203 - accuracy: 0.7451\n",
            "Epoch 65/100\n",
            "484/484 - 5s - loss: 1.4966 - accuracy: 0.7514\n",
            "Epoch 66/100\n",
            "484/484 - 5s - loss: 1.4835 - accuracy: 0.7473\n",
            "Epoch 67/100\n",
            "484/484 - 5s - loss: 1.4459 - accuracy: 0.7590\n",
            "Epoch 68/100\n",
            "484/484 - 5s - loss: 1.4232 - accuracy: 0.7637\n",
            "Epoch 69/100\n",
            "484/484 - 5s - loss: 1.4173 - accuracy: 0.7593\n",
            "Epoch 70/100\n",
            "484/484 - 5s - loss: 1.4015 - accuracy: 0.7646\n",
            "Epoch 71/100\n",
            "484/484 - 5s - loss: 1.3539 - accuracy: 0.7760\n",
            "Epoch 72/100\n",
            "484/484 - 5s - loss: 1.3469 - accuracy: 0.7738\n",
            "Epoch 73/100\n",
            "484/484 - 5s - loss: 1.3287 - accuracy: 0.7742\n",
            "Epoch 74/100\n",
            "484/484 - 5s - loss: 1.3026 - accuracy: 0.7837\n",
            "Epoch 75/100\n",
            "484/484 - 5s - loss: 1.2903 - accuracy: 0.7829\n",
            "Epoch 76/100\n",
            "484/484 - 5s - loss: 1.2723 - accuracy: 0.7866\n",
            "Epoch 77/100\n",
            "484/484 - 5s - loss: 1.2640 - accuracy: 0.7893\n",
            "Epoch 78/100\n",
            "484/484 - 5s - loss: 1.2517 - accuracy: 0.7890\n",
            "Epoch 79/100\n",
            "484/484 - 5s - loss: 1.2373 - accuracy: 0.7932\n",
            "Epoch 80/100\n",
            "484/484 - 5s - loss: 1.2214 - accuracy: 0.7939\n",
            "Epoch 81/100\n",
            "484/484 - 5s - loss: 1.2112 - accuracy: 0.7968\n",
            "Epoch 82/100\n",
            "484/484 - 5s - loss: 1.1836 - accuracy: 0.8030\n",
            "Epoch 83/100\n",
            "484/484 - 5s - loss: 1.1692 - accuracy: 0.8045\n",
            "Epoch 84/100\n",
            "484/484 - 5s - loss: 1.1717 - accuracy: 0.8026\n",
            "Epoch 85/100\n",
            "484/484 - 5s - loss: 1.1614 - accuracy: 0.8046\n",
            "Epoch 86/100\n",
            "484/484 - 5s - loss: 1.1609 - accuracy: 0.8003\n",
            "Epoch 87/100\n",
            "484/484 - 5s - loss: 1.1488 - accuracy: 0.8055\n",
            "Epoch 88/100\n",
            "484/484 - 5s - loss: 1.1142 - accuracy: 0.8115\n",
            "Epoch 89/100\n",
            "484/484 - 5s - loss: 1.0975 - accuracy: 0.8151\n",
            "Epoch 90/100\n",
            "484/484 - 5s - loss: 1.0985 - accuracy: 0.8111\n",
            "Epoch 91/100\n",
            "484/484 - 5s - loss: 1.1095 - accuracy: 0.8111\n",
            "Epoch 92/100\n",
            "484/484 - 5s - loss: 1.1115 - accuracy: 0.8058\n",
            "Epoch 93/100\n",
            "484/484 - 5s - loss: 1.0818 - accuracy: 0.8143\n",
            "Epoch 94/100\n",
            "484/484 - 5s - loss: 1.0741 - accuracy: 0.8157\n",
            "Epoch 95/100\n",
            "484/484 - 5s - loss: 1.0568 - accuracy: 0.8163\n",
            "Epoch 96/100\n",
            "484/484 - 5s - loss: 1.0429 - accuracy: 0.8210\n",
            "Epoch 97/100\n",
            "484/484 - 5s - loss: 1.0343 - accuracy: 0.8245\n",
            "Epoch 98/100\n",
            "484/484 - 5s - loss: 1.0431 - accuracy: 0.8164\n",
            "Epoch 99/100\n",
            "484/484 - 5s - loss: 1.0356 - accuracy: 0.8193\n",
            "Epoch 100/100\n",
            "484/484 - 5s - loss: 1.0330 - accuracy: 0.8196\n"
          ],
          "name": "stdout"
        }
      ]
    },
    {
      "cell_type": "code",
      "metadata": {
        "id": "1fXTEO3GJ282",
        "colab": {
          "base_uri": "https://localhost:8080/",
          "height": 545
        },
        "outputId": "90aede1c-9809-49cf-9ca1-1e55ec972a5f"
      },
      "source": [
        "import matplotlib.pyplot as plt\n",
        "acc = history.history['accuracy']\n",
        "loss = history.history['loss']\n",
        "\n",
        "epochs = range(len(acc))\n",
        "\n",
        "plt.plot(epochs, acc, 'b', label='Training accuracy')\n",
        "plt.title('Training accuracy')\n",
        "\n",
        "plt.figure()\n",
        "\n",
        "plt.plot(epochs, loss, 'b', label='Training Loss')\n",
        "plt.title('Training loss')\n",
        "plt.legend()\n",
        "\n",
        "plt.show()"
      ],
      "execution_count": null,
      "outputs": [
        {
          "output_type": "display_data",
          "data": {
            "image/png": "[encoded data removed]",
            "text/plain": [
              "<Figure size 432x288 with 1 Axes>"
            ]
          },
          "metadata": {
            "tags": [],
            "needs_background": "light"
          }
        },
        {
          "output_type": "display_data",
          "data": {
            "image/png": "[encoded data removed]",
            "text/plain": [
              "<Figure size 432x288 with 1 Axes>"
            ]
          },
          "metadata": {
            "tags": [],
            "needs_background": "light"
          }
        }
      ]
    },
    {
      "cell_type": "code",
      "metadata": {
        "id": "6Vc6PHgxa6Hm",
        "colab": {
          "base_uri": "https://localhost:8080/",
          "height": 105
        },
        "outputId": "b98c043a-4250-4584-95d5-a4ede9d8adc4"
      },
      "source": [
        "seed_text = \"Somewhere i have never travelled,gladly beyond\"\n",
        "next_words = 100\n",
        "  \n",
        "for _ in range(next_words):\n",
        "\ttoken_list = tokenizer.texts_to_sequences([seed_text])[0]\n",
        "\ttoken_list = pad_sequences([token_list], maxlen=max_sequence_len-1, padding='pre')\n",
        "\tpredicted = model.predict_classes(token_list, verbose=0)\n",
        "\toutput_word = \"\"\n",
        "\tfor word, index in tokenizer.word_index.items():\n",
        "\t\tif index == predicted:\n",
        "\t\t\toutput_word = word\n",
        "\t\t\tbreak\n",
        "\tseed_text += \" \" + output_word\n",
        "print(seed_text)"
      ],
      "execution_count": null,
      "outputs": [
        {
          "output_type": "stream",
          "text": [
            "WARNING:tensorflow:From <ipython-input-16-b702acf3a698>:7: Sequential.predict_classes (from tensorflow.python.keras.engine.sequential) is deprecated and will be removed after 2021-01-01.\n",
            "Instructions for updating:\n",
            "Please use instead:* `np.argmax(model.predict(x), axis=-1)`,   if your model does multi-class classification   (e.g. if it uses a `softmax` last-layer activation).* `(model.predict(x) > 0.5).astype(\"int32\")`,   if your model does binary classification   (e.g. if it uses a `sigmoid` last-layer activation).\n",
            "Somewhere i have never travelled,gladly beyond lie with me ' should tell that who how seen thee bring more much ever better bright love ' there alone so need you bright love days bright bold find dost show thee words right hue out past or past age under needing faith till you brought of chest lie did young with thee here quite quite gone kill me made such strife strife kind ' lies made new grow on 'tis thought truth ' back back again away possesseth hence hence bring hence defeated tongue each muse belong love releasing say if they never stand by true ' '\n"
          ],
          "name": "stdout"
        }
      ]
    }
  ]
}