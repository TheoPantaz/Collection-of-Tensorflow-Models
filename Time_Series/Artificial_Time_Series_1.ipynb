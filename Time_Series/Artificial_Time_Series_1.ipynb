{
  "nbformat": 4,
  "nbformat_minor": 0,
  "metadata": {
    "colab": {
      "name": "Exercise-2.ipynb",
      "provenance": [],
      "toc_visible": true
    },
    "kernelspec": {
      "display_name": "Python 3",
      "name": "python3"
    }
  },
  "cells": [
    {
      "cell_type": "code",
      "metadata": {
        "id": "zX4Kg8DUTKWO"
      },
      "source": [
        "#@title Licensed under the Apache License, Version 2.0 (the \"License\");\n",
        "# you may not use this file except in compliance with the License.\n",
        "# You may obtain a copy of the License at\n",
        "#\n",
        "# https://www.apache.org/licenses/LICENSE-2.0\n",
        "#\n",
        "# Unless required by applicable law or agreed to in writing, software\n",
        "# distributed under the License is distributed on an \"AS IS\" BASIS,\n",
        "# WITHOUT WARRANTIES OR CONDITIONS OF ANY KIND, either express or implied.\n",
        "# See the License for the specific language governing permissions and\n",
        "# limitations under the License."
      ],
      "execution_count": null,
      "outputs": []
    },
    {
      "cell_type": "markdown",
      "metadata": {
        "id": "ruBw62wVX6Ii"
      },
      "source": [
        "## Artificial Time Series Prediction"
      ]
    },
    {
      "cell_type": "code",
      "metadata": {
        "id": "BOjujz601HcS"
      },
      "source": [
        "import tensorflow as tf\n",
        "import numpy as np\n",
        "import matplotlib.pyplot as plt"
      ],
      "execution_count": null,
      "outputs": []
    },
    {
      "cell_type": "code",
      "metadata": {
        "id": "Zswl7jRtGzkk",
        "colab": {
          "base_uri": "https://localhost:8080/",
          "height": 279
        },
        "outputId": "245e1f3b-46a7-4caa-9e21-3977d1ae7d0a"
      },
      "source": [
        "def plot_series(time, series, format=\"-\", start=0, end=None):\n",
        "    plt.plot(time[start:end], series[start:end], format)\n",
        "    plt.xlabel(\"Time\")\n",
        "    plt.ylabel(\"Value\")\n",
        "    plt.grid(False)\n",
        "\n",
        "def trend(time, slope=0):\n",
        "    return slope * time\n",
        "\n",
        "def seasonal_pattern(season_time):\n",
        "    \"\"\"Just an arbitrary pattern, you can change it if you wish\"\"\"\n",
        "    return np.where(season_time < 0.1,\n",
        "                    np.cos(season_time * 7 * np.pi),\n",
        "                    4 / np.exp(10 * season_time))\n",
        "\n",
        "def seasonality(time, period, amplitude=1, phase=0):\n",
        "    \"\"\"Repeats the same pattern at each period\"\"\"\n",
        "    season_time = ((time + phase) % period) / period\n",
        "    return amplitude * seasonal_pattern(season_time)\n",
        "\n",
        "def noise(time, noise_level=1, seed=None):\n",
        "    rnd = np.random.RandomState(seed)\n",
        "    return rnd.randn(len(time)) * noise_level\n",
        "\n",
        "time = np.arange(10 * 365 + 1, dtype=\"float32\")\n",
        "baseline = 10\n",
        "series = trend(time, 1)  \n",
        "baseline = 10\n",
        "amplitude = 40\n",
        "slope = 0.01\n",
        "noise_level = 2\n",
        "\n",
        "series = baseline + trend(time, slope) + seasonality(time, period=365, amplitude=amplitude)\n",
        "series += noise(time, noise_level, seed=51)\n",
        "\n",
        "split_time = 3000\n",
        "time_train = time[:split_time]\n",
        "x_train = series[:split_time]\n",
        "time_valid = time[split_time:]\n",
        "x_valid = series[split_time:]\n",
        "\n",
        "window_size = 20\n",
        "batch_size = 32\n",
        "shuffle_buffer_size = 1000\n",
        "\n",
        "plot_series(time, series)"
      ],
      "execution_count": null,
      "outputs": [
        {
          "output_type": "display_data",
          "data": {
            "image/png": "[encoded data removed]",
            "text/plain": [
              "<Figure size 432x288 with 1 Axes>"
            ]
          },
          "metadata": {
            "tags": [],
            "needs_background": "light"
          }
        }
      ]
    },
    {
      "cell_type": "markdown",
      "metadata": {
        "id": "GfUTNqti_lNC"
      },
      "source": [
        "Desired output -- a chart that looks like this:\n",
        "\n",
        "![Chart showing upward trend and seasonailty](http://www.laurencemoroney.com/wp-content/uploads/2019/07/plot1.png)"
      ]
    },
    {
      "cell_type": "code",
      "metadata": {
        "id": "4sTTIOCbyShY"
      },
      "source": [
        "def windowed_dataset(series, window_size, batch_size, shuffle_buffer):\n",
        "  dataset = tf.data.Dataset.from_tensor_slices(series)\n",
        "  dataset = dataset.window(window_size + 1, shift=1, drop_remainder=True)\n",
        "  dataset = dataset.flat_map(lambda window: window.batch(window_size + 1))\n",
        "  dataset = dataset.shuffle(shuffle_buffer).map(lambda window: (window[:-1], window[-1]))\n",
        "  dataset = dataset.batch(batch_size).prefetch(1)\n",
        "  return dataset"
      ],
      "execution_count": null,
      "outputs": []
    },
    {
      "cell_type": "code",
      "metadata": {
        "id": "TW-vT7eLYAdb",
        "colab": {
          "base_uri": "https://localhost:8080/",
          "height": 1000
        },
        "outputId": "b166540e-0074-4d2c-a54c-64805abebcbb"
      },
      "source": [
        "dataset = windowed_dataset(x_train, window_size, batch_size, shuffle_buffer_size)\n",
        "\n",
        "\n",
        "model = tf.keras.models.Sequential([\n",
        "    tf.keras.layers.Dense(100, input_shape = [window_size], activation = 'relu'),\n",
        "    tf.keras.layers.Dense(10, activation=\"relu\"), \n",
        "    tf.keras.layers.Dense(1)\n",
        "])\n",
        "\n",
        "model.compile(loss='mse', optimizer= tf.keras.optimizers.SGD(lr=8e-6, momentum=0.9))\n",
        "model.fit(dataset,epochs=100,verbose=1)\n"
      ],
      "execution_count": null,
      "outputs": [
        {
          "output_type": "stream",
          "text": [
            "Epoch 1/100\n",
            "94/94 [==============================] - 0s 4ms/step - loss: 84.4777\n",
            "Epoch 2/100\n",
            "94/94 [==============================] - 0s 3ms/step - loss: 31.8116\n",
            "Epoch 3/100\n",
            "94/94 [==============================] - 0s 4ms/step - loss: 29.8417\n",
            "Epoch 4/100\n",
            "94/94 [==============================] - 0s 4ms/step - loss: 29.1771\n",
            "Epoch 5/100\n",
            "94/94 [==============================] - 0s 4ms/step - loss: 28.7576\n",
            "Epoch 6/100\n",
            "94/94 [==============================] - 0s 3ms/step - loss: 28.3775\n",
            "Epoch 7/100\n",
            "94/94 [==============================] - 0s 4ms/step - loss: 28.6226\n",
            "Epoch 8/100\n",
            "94/94 [==============================] - 0s 4ms/step - loss: 28.0111\n",
            "Epoch 9/100\n",
            "94/94 [==============================] - 0s 3ms/step - loss: 28.4276\n",
            "Epoch 10/100\n",
            "94/94 [==============================] - 0s 4ms/step - loss: 27.6402\n",
            "Epoch 11/100\n",
            "94/94 [==============================] - 0s 4ms/step - loss: 27.4798\n",
            "Epoch 12/100\n",
            "94/94 [==============================] - 0s 3ms/step - loss: 27.7243\n",
            "Epoch 13/100\n",
            "94/94 [==============================] - 0s 4ms/step - loss: 27.5049\n",
            "Epoch 14/100\n",
            "94/94 [==============================] - 0s 4ms/step - loss: 27.3126\n",
            "Epoch 15/100\n",
            "94/94 [==============================] - 0s 4ms/step - loss: 27.2658\n",
            "Epoch 16/100\n",
            "94/94 [==============================] - 0s 4ms/step - loss: 27.0141\n",
            "Epoch 17/100\n",
            "94/94 [==============================] - 0s 3ms/step - loss: 29.9103\n",
            "Epoch 18/100\n",
            "94/94 [==============================] - 0s 4ms/step - loss: 28.1906\n",
            "Epoch 19/100\n",
            "94/94 [==============================] - 0s 4ms/step - loss: 27.0655\n",
            "Epoch 20/100\n",
            "94/94 [==============================] - 0s 4ms/step - loss: 27.2605\n",
            "Epoch 21/100\n",
            "94/94 [==============================] - 0s 4ms/step - loss: 26.9123\n",
            "Epoch 22/100\n",
            "94/94 [==============================] - 0s 3ms/step - loss: 27.1294\n",
            "Epoch 23/100\n",
            "94/94 [==============================] - 0s 4ms/step - loss: 26.7845\n",
            "Epoch 24/100\n",
            "94/94 [==============================] - 0s 4ms/step - loss: 27.3464\n",
            "Epoch 25/100\n",
            "94/94 [==============================] - 0s 4ms/step - loss: 26.6363\n",
            "Epoch 26/100\n",
            "94/94 [==============================] - 0s 4ms/step - loss: 26.5898\n",
            "Epoch 27/100\n",
            "94/94 [==============================] - 0s 4ms/step - loss: 26.4681\n",
            "Epoch 28/100\n",
            "94/94 [==============================] - 0s 4ms/step - loss: 26.1827\n",
            "Epoch 29/100\n",
            "94/94 [==============================] - 0s 4ms/step - loss: 27.2449\n",
            "Epoch 30/100\n",
            "94/94 [==============================] - 0s 4ms/step - loss: 26.4750\n",
            "Epoch 31/100\n",
            "94/94 [==============================] - 0s 4ms/step - loss: 26.1624\n",
            "Epoch 32/100\n",
            "94/94 [==============================] - 0s 4ms/step - loss: 26.7511\n",
            "Epoch 33/100\n",
            "94/94 [==============================] - 0s 4ms/step - loss: 26.4251\n",
            "Epoch 34/100\n",
            "94/94 [==============================] - 0s 4ms/step - loss: 26.0828\n",
            "Epoch 35/100\n",
            "94/94 [==============================] - 0s 4ms/step - loss: 25.9385\n",
            "Epoch 36/100\n",
            "94/94 [==============================] - 0s 4ms/step - loss: 25.8069\n",
            "Epoch 37/100\n",
            "94/94 [==============================] - 0s 4ms/step - loss: 26.0059\n",
            "Epoch 38/100\n",
            "94/94 [==============================] - 0s 3ms/step - loss: 26.1544\n",
            "Epoch 39/100\n",
            "94/94 [==============================] - 0s 4ms/step - loss: 26.0190\n",
            "Epoch 40/100\n",
            "94/94 [==============================] - 0s 4ms/step - loss: 26.3192\n",
            "Epoch 41/100\n",
            "94/94 [==============================] - 0s 4ms/step - loss: 25.8300\n",
            "Epoch 42/100\n",
            "94/94 [==============================] - 0s 4ms/step - loss: 26.3711\n",
            "Epoch 43/100\n",
            "94/94 [==============================] - 0s 4ms/step - loss: 26.3071\n",
            "Epoch 44/100\n",
            "94/94 [==============================] - 0s 4ms/step - loss: 25.8062\n",
            "Epoch 45/100\n",
            "94/94 [==============================] - 0s 3ms/step - loss: 26.3823\n",
            "Epoch 46/100\n",
            "94/94 [==============================] - 0s 4ms/step - loss: 26.3850\n",
            "Epoch 47/100\n",
            "94/94 [==============================] - 0s 4ms/step - loss: 25.9844\n",
            "Epoch 48/100\n",
            "94/94 [==============================] - 0s 4ms/step - loss: 29.3718\n",
            "Epoch 49/100\n",
            "94/94 [==============================] - 0s 4ms/step - loss: 26.0308\n",
            "Epoch 50/100\n",
            "94/94 [==============================] - 0s 4ms/step - loss: 25.7070\n",
            "Epoch 51/100\n",
            "94/94 [==============================] - 0s 4ms/step - loss: 26.0825\n",
            "Epoch 52/100\n",
            "94/94 [==============================] - 0s 4ms/step - loss: 25.7120\n",
            "Epoch 53/100\n",
            "94/94 [==============================] - 0s 4ms/step - loss: 26.2651\n",
            "Epoch 54/100\n",
            "94/94 [==============================] - 0s 3ms/step - loss: 25.7355\n",
            "Epoch 55/100\n",
            "94/94 [==============================] - 0s 4ms/step - loss: 26.2258\n",
            "Epoch 56/100\n",
            "94/94 [==============================] - 0s 4ms/step - loss: 25.7017\n",
            "Epoch 57/100\n",
            "94/94 [==============================] - 0s 4ms/step - loss: 25.5666\n",
            "Epoch 58/100\n",
            "94/94 [==============================] - 0s 4ms/step - loss: 26.3485\n",
            "Epoch 59/100\n",
            "94/94 [==============================] - 0s 4ms/step - loss: 26.7910\n",
            "Epoch 60/100\n",
            "94/94 [==============================] - 0s 3ms/step - loss: 26.2783\n",
            "Epoch 61/100\n",
            "94/94 [==============================] - 0s 4ms/step - loss: 25.3378\n",
            "Epoch 62/100\n",
            "94/94 [==============================] - 0s 4ms/step - loss: 25.8671\n",
            "Epoch 63/100\n",
            "94/94 [==============================] - 0s 4ms/step - loss: 25.3429\n",
            "Epoch 64/100\n",
            "94/94 [==============================] - 0s 4ms/step - loss: 25.7073\n",
            "Epoch 65/100\n",
            "94/94 [==============================] - 0s 4ms/step - loss: 25.7312\n",
            "Epoch 66/100\n",
            "94/94 [==============================] - 0s 4ms/step - loss: 26.4143\n",
            "Epoch 67/100\n",
            "94/94 [==============================] - 0s 4ms/step - loss: 25.6042\n",
            "Epoch 68/100\n",
            "94/94 [==============================] - 0s 4ms/step - loss: 25.2953\n",
            "Epoch 69/100\n",
            "94/94 [==============================] - 0s 4ms/step - loss: 25.8215\n",
            "Epoch 70/100\n",
            "94/94 [==============================] - 0s 3ms/step - loss: 26.2908\n",
            "Epoch 71/100\n",
            "94/94 [==============================] - 0s 4ms/step - loss: 25.6172\n",
            "Epoch 72/100\n",
            "94/94 [==============================] - 0s 4ms/step - loss: 25.8952\n",
            "Epoch 73/100\n",
            "94/94 [==============================] - 0s 4ms/step - loss: 25.8230\n",
            "Epoch 74/100\n",
            "94/94 [==============================] - 0s 4ms/step - loss: 25.7107\n",
            "Epoch 75/100\n",
            "94/94 [==============================] - 0s 4ms/step - loss: 25.4392\n",
            "Epoch 76/100\n",
            "94/94 [==============================] - 0s 4ms/step - loss: 25.7520\n",
            "Epoch 77/100\n",
            "94/94 [==============================] - 0s 4ms/step - loss: 25.3494\n",
            "Epoch 78/100\n",
            "94/94 [==============================] - 0s 4ms/step - loss: 25.8226\n",
            "Epoch 79/100\n",
            "94/94 [==============================] - 0s 4ms/step - loss: 25.4125\n",
            "Epoch 80/100\n",
            "94/94 [==============================] - 0s 3ms/step - loss: 25.3878\n",
            "Epoch 81/100\n",
            "94/94 [==============================] - 0s 4ms/step - loss: 25.4809\n",
            "Epoch 82/100\n",
            "94/94 [==============================] - 0s 4ms/step - loss: 25.3584\n",
            "Epoch 83/100\n",
            "94/94 [==============================] - 0s 3ms/step - loss: 25.5605\n",
            "Epoch 84/100\n",
            "94/94 [==============================] - 0s 4ms/step - loss: 25.3957\n",
            "Epoch 85/100\n",
            "94/94 [==============================] - 0s 4ms/step - loss: 26.0491\n",
            "Epoch 86/100\n",
            "94/94 [==============================] - 0s 4ms/step - loss: 25.0007\n",
            "Epoch 87/100\n",
            "94/94 [==============================] - 0s 4ms/step - loss: 25.2029\n",
            "Epoch 88/100\n",
            "94/94 [==============================] - 0s 4ms/step - loss: 25.4527\n",
            "Epoch 89/100\n",
            "94/94 [==============================] - 0s 4ms/step - loss: 24.9719\n",
            "Epoch 90/100\n",
            "94/94 [==============================] - 0s 4ms/step - loss: 25.2139\n",
            "Epoch 91/100\n",
            "94/94 [==============================] - 0s 4ms/step - loss: 24.9011\n",
            "Epoch 92/100\n",
            "94/94 [==============================] - 0s 4ms/step - loss: 25.3992\n",
            "Epoch 93/100\n",
            "94/94 [==============================] - 0s 3ms/step - loss: 25.0620\n",
            "Epoch 94/100\n",
            "94/94 [==============================] - 0s 4ms/step - loss: 25.2911\n",
            "Epoch 95/100\n",
            "94/94 [==============================] - 0s 4ms/step - loss: 25.3493\n",
            "Epoch 96/100\n",
            "94/94 [==============================] - 0s 4ms/step - loss: 24.9181\n",
            "Epoch 97/100\n",
            "94/94 [==============================] - 0s 4ms/step - loss: 25.1090\n",
            "Epoch 98/100\n",
            "94/94 [==============================] - 0s 4ms/step - loss: 25.3692\n",
            "Epoch 99/100\n",
            "94/94 [==============================] - 0s 4ms/step - loss: 24.9897\n",
            "Epoch 100/100\n",
            "94/94 [==============================] - 0s 4ms/step - loss: 24.9679\n"
          ],
          "name": "stdout"
        },
        {
          "output_type": "execute_result",
          "data": {
            "text/plain": [
              "<tensorflow.python.keras.callbacks.History at 0x7fa215449b70>"
            ]
          },
          "metadata": {
            "tags": []
          },
          "execution_count": 39
        }
      ]
    },
    {
      "cell_type": "code",
      "metadata": {
        "id": "efhco2rYyIFF",
        "colab": {
          "base_uri": "https://localhost:8080/",
          "height": 388
        },
        "outputId": "606f152b-fc82-41a0-f7d9-4cbbf61b704e"
      },
      "source": [
        "forecast = []\n",
        "for time in range(len(series) - window_size):\n",
        "  forecast.append(model.predict(series[time:time + window_size][np.newaxis]))\n",
        "\n",
        "forecast = forecast[split_time-window_size:]\n",
        "results = np.array(forecast)[:, 0, 0]\n",
        "\n",
        "\n",
        "plt.figure(figsize=(10, 6))\n",
        "\n",
        "plot_series(time_valid, x_valid)\n",
        "plot_series(time_valid, results)"
      ],
      "execution_count": null,
      "outputs": [
        {
          "output_type": "display_data",
          "data": {
            "image/png": "[encoded data removed]",
            "text/plain": [
              "<Figure size 720x432 with 1 Axes>"
            ]
          },
          "metadata": {
            "tags": [],
            "needs_background": "light"
          }
        }
      ]
    },
    {
      "cell_type": "code",
      "metadata": {
        "id": "-kT6j186YO6K",
        "colab": {
          "base_uri": "https://localhost:8080/",
          "height": 34
        },
        "outputId": "150bdcd4-2dcf-4fd0-ce95-91bbcacf1eb7"
      },
      "source": [
        "tf.keras.metrics.mean_absolute_error(x_valid, results).numpy()"
      ],
      "execution_count": null,
      "outputs": [
        {
          "output_type": "execute_result",
          "data": {
            "text/plain": [
              "2.18324"
            ]
          },
          "metadata": {
            "tags": []
          },
          "execution_count": 44
        }
      ]
    }
  ]
}