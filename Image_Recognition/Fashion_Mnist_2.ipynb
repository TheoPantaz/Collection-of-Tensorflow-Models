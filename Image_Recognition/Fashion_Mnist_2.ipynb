{
  "nbformat": 4,
  "nbformat_minor": 0,
  "metadata": {
    "coursera": {
      "course_slug": "introduction-tensorflow",
      "graded_item_id": "ml06H",
      "launcher_item_id": "hQF8A"
    },
    "kernelspec": {
      "display_name": "Python 3",
      "language": "python",
      "name": "python3"
    },
    "language_info": {
      "codemirror_mode": {
        "name": "ipython",
        "version": 3
      },
      "file_extension": ".py",
      "mimetype": "text/x-python",
      "name": "python",
      "nbconvert_exporter": "python",
      "pygments_lexer": "ipython3",
      "version": "3.6.8"
    },
    "colab": {
      "name": "Exercise-3.ipynb",
      "provenance": []
    }
  },
  "cells": [
    {
      "cell_type": "markdown",
      "metadata": {
        "id": "iQjHqsmTAVLU"
      },
      "source": [
        "## Fashion Mnist\n"
      ]
    },
    {
      "cell_type": "code",
      "metadata": {
        "id": "0pJVXpPtLEWc"
      },
      "source": [
        "import tensorflow as tf\n",
        "from os import path, getcwd, chdir\n",
        "\n",
        "path = f\"{getcwd()}/../tmp2/mnist.npz\""
      ],
      "execution_count": null,
      "outputs": []
    },
    {
      "cell_type": "code",
      "metadata": {
        "id": "Dc1v4xf6LEWd"
      },
      "source": [
        "config = tf.ConfigProto()\n",
        "config.gpu_options.allow_growth = True\n",
        "sess = tf.Session(config=config)"
      ],
      "execution_count": null,
      "outputs": []
    },
    {
      "cell_type": "code",
      "metadata": {
        "id": "5WpG4mnALEWd"
      },
      "source": [
        "def train_mnist_conv():\n",
        "\n",
        "    class MyCallback(tf.keras.callbacks.Callback):\n",
        "        def on_epoch_end(self, epoch, logs = {}):\n",
        "            if logs.get('acc') > 0.998:\n",
        "                print(\"\\nReached 99.8% accuracy, training cancelled!\")\n",
        "                self.model.stop_training = True\n",
        "    callbacks = MyCallback()\n",
        "\n",
        "    mnist = tf.keras.datasets.mnist\n",
        "    (training_images, training_labels), (test_images, test_labels) = mnist.load_data(path=path)\n",
        "    training_images, test_images = training_images / 255.0, test_images / 255.0\n",
        "    training_images = training_images.reshape(60000, 28, 28, 1)\n",
        "    test_images = test_images.reshape(10000, 28, 28, 1)\n",
        "\n",
        "    model = tf.keras.models.Sequential([\n",
        "            tf.keras.layers.Conv2D(32, (3, 3), activation = 'relu', input_shape = (28, 28, 1)),\n",
        "            tf.keras.layers.MaxPooling2D(2, 2),\n",
        "            tf.keras.layers.Flatten(),\n",
        "            tf.keras.layers.Dense(128, activation = 'relu'),\n",
        "            tf.keras.layers.Dense(10, activation = 'softmax')\n",
        "    ])\n",
        "\n",
        "    model.compile(optimizer='adam', loss='sparse_categorical_crossentropy', metrics=['accuracy'])\n",
        "    # model fitting\n",
        "    history = model.fit(\n",
        "        training_images, training_labels, epochs = 20, callbacks = [callbacks]\n",
        "    )\n",
        "    # model fitting\n",
        "    return history.epoch, history.history['acc'][-1]\n",
        "\n"
      ],
      "execution_count": null,
      "outputs": []
    },
    {
      "cell_type": "code",
      "metadata": {
        "id": "0V9XUm8-LEWd",
        "outputId": "df8ea44c-a842-462e-ae7f-a976b010bc81"
      },
      "source": [
        "_, _ = train_mnist_conv()"
      ],
      "execution_count": null,
      "outputs": [
        {
          "output_type": "stream",
          "text": [
            "Epoch 1/20\n",
            "60000/60000 [==============================] - 18s 294us/sample - loss: 0.1515 - acc: 0.9544\n",
            "Epoch 2/20\n",
            "60000/60000 [==============================] - 15s 245us/sample - loss: 0.0497 - acc: 0.9846\n",
            "Epoch 3/20\n",
            "60000/60000 [==============================] - 14s 228us/sample - loss: 0.0321 - acc: 0.9898\n",
            "Epoch 4/20\n",
            "60000/60000 [==============================] - 14s 228us/sample - loss: 0.0205 - acc: 0.9933\n",
            "Epoch 5/20\n",
            "60000/60000 [==============================] - 14s 237us/sample - loss: 0.0137 - acc: 0.9956\n",
            "Epoch 6/20\n",
            "60000/60000 [==============================] - 14s 230us/sample - loss: 0.0104 - acc: 0.9963\n",
            "Epoch 7/20\n",
            "60000/60000 [==============================] - 14s 235us/sample - loss: 0.0069 - acc: 0.9974\n",
            "Epoch 8/20\n",
            "60000/60000 [==============================] - 14s 230us/sample - loss: 0.0061 - acc: 0.9978\n",
            "Epoch 9/20\n",
            "59936/60000 [============================>.] - ETA: 0s - loss: 0.0052 - acc: 0.9982\n",
            "Reached 99.8% accuracy, training cancelled!\n",
            "60000/60000 [==============================] - 14s 240us/sample - loss: 0.0052 - acc: 0.9982\n"
          ],
          "name": "stdout"
        }
      ]
    }
  ]
}