{
  "nbformat": 4,
  "nbformat_minor": 0,
  "metadata": {
    "coursera": {
      "course_slug": "introduction-tensorflow",
      "graded_item_id": "d6dew",
      "launcher_item_id": "FExZ4"
    },
    "kernelspec": {
      "display_name": "Python 3",
      "language": "python",
      "name": "python3"
    },
    "language_info": {
      "codemirror_mode": {
        "name": "ipython",
        "version": 3
      },
      "file_extension": ".py",
      "mimetype": "text/x-python",
      "name": "python",
      "nbconvert_exporter": "python",
      "pygments_lexer": "ipython3",
      "version": "3.6.8"
    },
    "colab": {
      "name": "Exercise-2.ipynb",
      "provenance": []
    }
  },
  "cells": [
    {
      "cell_type": "markdown",
      "metadata": {
        "id": "tOoyQ70H00_s"
      },
      "source": [
        "## Fashion_Mnist"
      ]
    },
    {
      "cell_type": "code",
      "metadata": {
        "id": "SbTV7FJlKaoR"
      },
      "source": [
        "import tensorflow as tf\n",
        "from os import path, getcwd, chdir\n",
        "\n",
        "path = f\"{getcwd()}/../tmp2/mnist.npz\""
      ],
      "execution_count": null,
      "outputs": []
    },
    {
      "cell_type": "code",
      "metadata": {
        "id": "9rvXQGAA0ssC"
      },
      "source": [
        "def train_mnist():\n",
        "    class MyCallback(tf.keras.callbacks.Callback):\n",
        "        def on_epoch_end(self, epoch, logs = {}):\n",
        "            if (logs.get('acc') > 0.99):\n",
        "                print(\"\\nReached 99% accuracy so cancelling training\")\n",
        "                self.model.stop_training = True\n",
        "                \n",
        "    callbacks = MyCallback()\n",
        "    mnist = tf.keras.datasets.mnist\n",
        "\n",
        "    (x_train, y_train),(x_test, y_test) = mnist.load_data(path=path)\n",
        "    x_train = x_train / 255\n",
        "    x_test = x_test / 255\n",
        "\n",
        "    model = tf.keras.models.Sequential([\n",
        "        tf.keras.layers.Flatten(input_shape = (28,28)),\n",
        "        tf.keras.layers.Dense(512, activation =tf.nn.relu),\n",
        "        tf.keras.layers.Dense(10, activation =tf.nn.softmax)\n",
        "    ])\n",
        "\n",
        "    model.compile(optimizer='adam',\n",
        "                  loss='sparse_categorical_crossentropy',\n",
        "                  metrics=['accuracy'])\n",
        "    \n",
        "    # model fitting\n",
        "    history = model.fit(\n",
        "        x_train, y_train, epochs = 10, callbacks = [callbacks]\n",
        "    )\n",
        "    # model fitting\n",
        "    return history.epoch, history.history['acc'][-1]"
      ],
      "execution_count": null,
      "outputs": []
    },
    {
      "cell_type": "code",
      "metadata": {
        "id": "Xl8gu3FrKaoS",
        "outputId": "a7616690-adeb-43e9-d3ea-c090699ef36e"
      },
      "source": [
        "train_mnist()"
      ],
      "execution_count": null,
      "outputs": [
        {
          "output_type": "stream",
          "text": [
            "Epoch 1/10\n",
            "60000/60000 [==============================] - 14s 227us/sample - loss: 0.1985 - acc: 0.9410\n",
            "Epoch 2/10\n",
            "60000/60000 [==============================] - 13s 225us/sample - loss: 0.0796 - acc: 0.9759\n",
            "Epoch 3/10\n",
            "60000/60000 [==============================] - 14s 235us/sample - loss: 0.0520 - acc: 0.9836\n",
            "Epoch 4/10\n",
            "60000/60000 [==============================] - 13s 223us/sample - loss: 0.0357 - acc: 0.9883 -\n",
            "Epoch 5/10\n",
            "59584/60000 [============================>.] - ETA: 0s - loss: 0.0268 - acc: 0.9915\n",
            "Reached 99% accuracy so cancelling training\n",
            "60000/60000 [==============================] - 14s 227us/sample - loss: 0.0269 - acc: 0.9915\n"
          ],
          "name": "stdout"
        },
        {
          "output_type": "execute_result",
          "data": {
            "text/plain": [
              "([0, 1, 2, 3, 4], 0.99145)"
            ]
          },
          "metadata": {
            "tags": []
          },
          "execution_count": 24
        }
      ]
    }
  ]
}